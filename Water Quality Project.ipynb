{
 "cells": [
  {
   "cell_type": "code",
   "execution_count": 18,
   "id": "4819cc2a",
   "metadata": {},
   "outputs": [],
   "source": [
    "import numpy as np\n",
    "import pandas as pd\n",
    "import matplotlib.pyplot as plt\n",
    "import seaborn as sns\n",
    "from sklearn.model_selection import train_test_split\n",
    "from sklearn.preprocessing import StandardScaler\n",
    "from sklearn.decomposition import PCA\n",
    "from sklearn.metrics import accuracy_score"
   ]
  },
  {
   "cell_type": "code",
   "execution_count": 28,
   "id": "ec615a14",
   "metadata": {},
   "outputs": [
    {
     "data": {
      "text/html": [
       "<div>\n",
       "<style scoped>\n",
       "    .dataframe tbody tr th:only-of-type {\n",
       "        vertical-align: middle;\n",
       "    }\n",
       "\n",
       "    .dataframe tbody tr th {\n",
       "        vertical-align: top;\n",
       "    }\n",
       "\n",
       "    .dataframe thead th {\n",
       "        text-align: right;\n",
       "    }\n",
       "</style>\n",
       "<table border=\"1\" class=\"dataframe\">\n",
       "  <thead>\n",
       "    <tr style=\"text-align: right;\">\n",
       "      <th></th>\n",
       "      <th>Well ID</th>\n",
       "      <th>S.No</th>\n",
       "      <th>STATE</th>\n",
       "      <th>DISTRICT</th>\n",
       "      <th>BLOCK</th>\n",
       "      <th>LOCATION</th>\n",
       "      <th>LATITUDE</th>\n",
       "      <th>LONGITUDE</th>\n",
       "      <th>Year</th>\n",
       "      <th>pH</th>\n",
       "      <th>...</th>\n",
       "      <th>PO4</th>\n",
       "      <th>TH</th>\n",
       "      <th>Ca</th>\n",
       "      <th>Mg</th>\n",
       "      <th>Na</th>\n",
       "      <th>K</th>\n",
       "      <th>F</th>\n",
       "      <th>SiO2</th>\n",
       "      <th>TDS</th>\n",
       "      <th>U(ppb)</th>\n",
       "    </tr>\n",
       "  </thead>\n",
       "  <tbody>\n",
       "    <tr>\n",
       "      <th>0</th>\n",
       "      <td>W113126092431802</td>\n",
       "      <td>1</td>\n",
       "      <td>A&amp;N Islands</td>\n",
       "      <td>South Andaman</td>\n",
       "      <td>PORT BLAIR</td>\n",
       "      <td>Kodiaghat</td>\n",
       "      <td>11.54500</td>\n",
       "      <td>92.74583</td>\n",
       "      <td>2021</td>\n",
       "      <td>7.74</td>\n",
       "      <td>...</td>\n",
       "      <td>NaN</td>\n",
       "      <td>175.0</td>\n",
       "      <td>34.0</td>\n",
       "      <td>22.0</td>\n",
       "      <td>10.0</td>\n",
       "      <td>0.0</td>\n",
       "      <td>0.84</td>\n",
       "      <td>NaN</td>\n",
       "      <td>206.0</td>\n",
       "      <td>4.8</td>\n",
       "    </tr>\n",
       "    <tr>\n",
       "      <th>1</th>\n",
       "      <td>W113616092411001</td>\n",
       "      <td>2</td>\n",
       "      <td>A&amp;N Islands</td>\n",
       "      <td>South Andaman</td>\n",
       "      <td>PORT BLAIR</td>\n",
       "      <td>Sippighat</td>\n",
       "      <td>11.60250</td>\n",
       "      <td>92.73000</td>\n",
       "      <td>2021</td>\n",
       "      <td>7.53</td>\n",
       "      <td>...</td>\n",
       "      <td>NaN</td>\n",
       "      <td>250.0</td>\n",
       "      <td>52.0</td>\n",
       "      <td>29.0</td>\n",
       "      <td>51.0</td>\n",
       "      <td>1.0</td>\n",
       "      <td>0.28</td>\n",
       "      <td>NaN</td>\n",
       "      <td>381.0</td>\n",
       "      <td>6.4</td>\n",
       "    </tr>\n",
       "    <tr>\n",
       "      <th>2</th>\n",
       "      <td>W113640092443301</td>\n",
       "      <td>3</td>\n",
       "      <td>A&amp;N Islands</td>\n",
       "      <td>South Andaman</td>\n",
       "      <td>PORT BLAIR</td>\n",
       "      <td>Brichganj</td>\n",
       "      <td>11.62083</td>\n",
       "      <td>92.73028</td>\n",
       "      <td>2021</td>\n",
       "      <td>7.50</td>\n",
       "      <td>...</td>\n",
       "      <td>NaN</td>\n",
       "      <td>125.0</td>\n",
       "      <td>4.0</td>\n",
       "      <td>28.0</td>\n",
       "      <td>10.0</td>\n",
       "      <td>1.0</td>\n",
       "      <td>0.46</td>\n",
       "      <td>NaN</td>\n",
       "      <td>151.0</td>\n",
       "      <td>BDL</td>\n",
       "    </tr>\n",
       "    <tr>\n",
       "      <th>3</th>\n",
       "      <td>W114421092422801</td>\n",
       "      <td>4</td>\n",
       "      <td>A&amp;N Islands</td>\n",
       "      <td>South Andaman</td>\n",
       "      <td>FERRARGUNJ</td>\n",
       "      <td>Wimberleyganj</td>\n",
       "      <td>11.73250</td>\n",
       "      <td>92.70861</td>\n",
       "      <td>2021</td>\n",
       "      <td>7.60</td>\n",
       "      <td>...</td>\n",
       "      <td>NaN</td>\n",
       "      <td>135.0</td>\n",
       "      <td>26.0</td>\n",
       "      <td>17.0</td>\n",
       "      <td>15.0</td>\n",
       "      <td>2.0</td>\n",
       "      <td>0.37</td>\n",
       "      <td>NaN</td>\n",
       "      <td>198.0</td>\n",
       "      <td>0.4</td>\n",
       "    </tr>\n",
       "    <tr>\n",
       "      <th>4</th>\n",
       "      <td>W113955092391801</td>\n",
       "      <td>5</td>\n",
       "      <td>A&amp;N Islands</td>\n",
       "      <td>South Andaman</td>\n",
       "      <td>FERRARGUNJ</td>\n",
       "      <td>Ograbraj</td>\n",
       "      <td>11.66361</td>\n",
       "      <td>92.65806</td>\n",
       "      <td>2021</td>\n",
       "      <td>7.82</td>\n",
       "      <td>...</td>\n",
       "      <td>NaN</td>\n",
       "      <td>465.0</td>\n",
       "      <td>56.0</td>\n",
       "      <td>79.0</td>\n",
       "      <td>336.0</td>\n",
       "      <td>18.0</td>\n",
       "      <td>0.95</td>\n",
       "      <td>NaN</td>\n",
       "      <td>1424.0</td>\n",
       "      <td>BDL</td>\n",
       "    </tr>\n",
       "  </tbody>\n",
       "</table>\n",
       "<p>5 rows × 26 columns</p>\n",
       "</div>"
      ],
      "text/plain": [
       "            Well ID  S.No        STATE       DISTRICT       BLOCK  \\\n",
       "0  W113126092431802     1  A&N Islands  South Andaman  PORT BLAIR   \n",
       "1  W113616092411001     2  A&N Islands  South Andaman  PORT BLAIR   \n",
       "2  W113640092443301     3  A&N Islands  South Andaman  PORT BLAIR   \n",
       "3  W114421092422801     4  A&N Islands  South Andaman  FERRARGUNJ   \n",
       "4  W113955092391801     5  A&N Islands  South Andaman  FERRARGUNJ   \n",
       "\n",
       "        LOCATION  LATITUDE LONGITUDE  Year    pH  ...  PO4     TH    Ca    Mg  \\\n",
       "0      Kodiaghat  11.54500  92.74583  2021  7.74  ...  NaN  175.0  34.0  22.0   \n",
       "1      Sippighat  11.60250  92.73000  2021  7.53  ...  NaN  250.0  52.0  29.0   \n",
       "2      Brichganj  11.62083  92.73028  2021  7.50  ...  NaN  125.0   4.0  28.0   \n",
       "3  Wimberleyganj  11.73250  92.70861  2021  7.60  ...  NaN  135.0  26.0  17.0   \n",
       "4       Ograbraj  11.66361  92.65806  2021  7.82  ...  NaN  465.0  56.0  79.0   \n",
       "\n",
       "      Na     K     F  SiO2     TDS  U(ppb)  \n",
       "0   10.0   0.0  0.84   NaN   206.0     4.8  \n",
       "1   51.0   1.0  0.28   NaN   381.0     6.4  \n",
       "2   10.0   1.0  0.46   NaN   151.0     BDL  \n",
       "3   15.0   2.0  0.37   NaN   198.0     0.4  \n",
       "4  336.0  18.0  0.95   NaN  1424.0     BDL  \n",
       "\n",
       "[5 rows x 26 columns]"
      ]
     },
     "execution_count": 28,
     "metadata": {},
     "output_type": "execute_result"
    }
   ],
   "source": [
    "df = pd.read_csv('ground water quality.csv')\n",
    "df.head()"
   ]
  },
  {
   "cell_type": "code",
   "execution_count": 29,
   "id": "95a3efc9",
   "metadata": {},
   "outputs": [
    {
     "name": "stdout",
     "output_type": "stream",
     "text": [
      "<class 'pandas.core.frame.DataFrame'>\n",
      "RangeIndex: 5375 entries, 0 to 5374\n",
      "Data columns (total 26 columns):\n",
      " #   Column     Non-Null Count  Dtype  \n",
      "---  ------     --------------  -----  \n",
      " 0   Well ID    5375 non-null   object \n",
      " 1   S.No       5375 non-null   int64  \n",
      " 2   STATE      5375 non-null   object \n",
      " 3   DISTRICT   5375 non-null   object \n",
      " 4   BLOCK      5304 non-null   object \n",
      " 5   LOCATION   5375 non-null   object \n",
      " 6   LATITUDE   5374 non-null   object \n",
      " 7   LONGITUDE  5374 non-null   object \n",
      " 8   Year       5375 non-null   int64  \n",
      " 9   pH         5375 non-null   float64\n",
      " 10  EC         5375 non-null   float64\n",
      " 11  CO3        5375 non-null   float64\n",
      " 12  HCO3       5375 non-null   float64\n",
      " 13  Cl         5375 non-null   float64\n",
      " 14  SO4        5374 non-null   float64\n",
      " 15  NO3        5375 non-null   float64\n",
      " 16  PO4        3554 non-null   object \n",
      " 17  TH         5375 non-null   float64\n",
      " 18  Ca         5375 non-null   float64\n",
      " 19  Mg         5375 non-null   float64\n",
      " 20  Na         5375 non-null   float64\n",
      " 21  K          5374 non-null   float64\n",
      " 22  F          5375 non-null   float64\n",
      " 23  SiO2       2754 non-null   object \n",
      " 24  TDS        3216 non-null   float64\n",
      " 25  U(ppb)     1643 non-null   object \n",
      "dtypes: float64(14), int64(2), object(10)\n",
      "memory usage: 1.1+ MB\n"
     ]
    }
   ],
   "source": [
    "df.info()"
   ]
  },
  {
   "cell_type": "code",
   "execution_count": 41,
   "id": "a6b991aa",
   "metadata": {},
   "outputs": [
    {
     "data": {
      "text/plain": [
       "(5375, 26)"
      ]
     },
     "execution_count": 41,
     "metadata": {},
     "output_type": "execute_result"
    }
   ],
   "source": [
    "df.shape"
   ]
  },
  {
   "cell_type": "code",
   "execution_count": 30,
   "id": "318bb86d",
   "metadata": {},
   "outputs": [
    {
     "data": {
      "text/plain": [
       "Well ID         0\n",
       "S.No            0\n",
       "STATE           0\n",
       "DISTRICT        0\n",
       "BLOCK          71\n",
       "LOCATION        0\n",
       "LATITUDE        1\n",
       "LONGITUDE       1\n",
       "Year            0\n",
       "pH              0\n",
       "EC              0\n",
       "CO3             0\n",
       "HCO3            0\n",
       "Cl              0\n",
       "SO4             1\n",
       "NO3             0\n",
       "PO4          1821\n",
       "TH              0\n",
       "Ca              0\n",
       "Mg              0\n",
       "Na              0\n",
       "K               1\n",
       "F               0\n",
       "SiO2         2621\n",
       "TDS          2159\n",
       "U(ppb)       3732\n",
       "dtype: int64"
      ]
     },
     "execution_count": 30,
     "metadata": {},
     "output_type": "execute_result"
    }
   ],
   "source": [
    "df.isnull().sum()"
   ]
  },
  {
   "cell_type": "code",
   "execution_count": 31,
   "id": "22f9ad54",
   "metadata": {},
   "outputs": [],
   "source": [
    "df['PO4']  = pd.to_numeric(df['PO4'],errors='coerce')\n",
    "df['U(ppb)']  = pd.to_numeric(df['U(ppb)'],errors='coerce')\n",
    "df['SiO2']  = pd.to_numeric(df['SiO2'],errors='coerce')"
   ]
  },
  {
   "cell_type": "code",
   "execution_count": 32,
   "id": "bccb96fd",
   "metadata": {},
   "outputs": [
    {
     "name": "stdout",
     "output_type": "stream",
     "text": [
      "<class 'pandas.core.frame.DataFrame'>\n",
      "RangeIndex: 5375 entries, 0 to 5374\n",
      "Data columns (total 26 columns):\n",
      " #   Column     Non-Null Count  Dtype  \n",
      "---  ------     --------------  -----  \n",
      " 0   Well ID    5375 non-null   object \n",
      " 1   S.No       5375 non-null   int64  \n",
      " 2   STATE      5375 non-null   object \n",
      " 3   DISTRICT   5375 non-null   object \n",
      " 4   BLOCK      5304 non-null   object \n",
      " 5   LOCATION   5375 non-null   object \n",
      " 6   LATITUDE   5374 non-null   object \n",
      " 7   LONGITUDE  5374 non-null   object \n",
      " 8   Year       5375 non-null   int64  \n",
      " 9   pH         5375 non-null   float64\n",
      " 10  EC         5375 non-null   float64\n",
      " 11  CO3        5375 non-null   float64\n",
      " 12  HCO3       5375 non-null   float64\n",
      " 13  Cl         5375 non-null   float64\n",
      " 14  SO4        5374 non-null   float64\n",
      " 15  NO3        5375 non-null   float64\n",
      " 16  PO4        2842 non-null   float64\n",
      " 17  TH         5375 non-null   float64\n",
      " 18  Ca         5375 non-null   float64\n",
      " 19  Mg         5375 non-null   float64\n",
      " 20  Na         5375 non-null   float64\n",
      " 21  K          5374 non-null   float64\n",
      " 22  F          5375 non-null   float64\n",
      " 23  SiO2       2671 non-null   float64\n",
      " 24  TDS        3216 non-null   float64\n",
      " 25  U(ppb)     1635 non-null   float64\n",
      "dtypes: float64(17), int64(2), object(7)\n",
      "memory usage: 1.1+ MB\n"
     ]
    }
   ],
   "source": [
    "df.info()"
   ]
  },
  {
   "cell_type": "code",
   "execution_count": 33,
   "id": "142fe0fb",
   "metadata": {},
   "outputs": [],
   "source": [
    "meanpo4 = df['PO4'].mean\n",
    "meansio2 = df['SiO2'].mean\n",
    "meantds = df['TDS'].mean\n",
    "meanu = df['U(ppb)'].mean\n",
    "meank = df['K'].mean\n",
    "df['PO4'] = df['PO4'].fillna(meanpo4)\n",
    "df['SiO2'] = df['SiO2'].fillna(meansio2)\n",
    "df['TDS'] = df['TDS'].fillna(meantds)\n",
    "df['U(ppb)'] = df['U(ppb)'].fillna(meanu)\n",
    "df['K'] = df['K'].fillna(meank)"
   ]
  },
  {
   "cell_type": "code",
   "execution_count": 40,
   "id": "8539f520",
   "metadata": {},
   "outputs": [
    {
     "data": {
      "text/plain": [
       "<bound method NDFrame._add_numeric_operations.<locals>.mean of 0        0.0\n",
       "1        1.0\n",
       "2        1.0\n",
       "3        2.0\n",
       "4       18.0\n",
       "        ... \n",
       "5370    3.83\n",
       "5371    3.55\n",
       "5372    2.45\n",
       "5373    8.53\n",
       "5374    4.54\n",
       "Name: K, Length: 5375, dtype: object>"
      ]
     },
     "execution_count": 40,
     "metadata": {},
     "output_type": "execute_result"
    }
   ],
   "source": [
    "mean_df=df['K'].mean\n",
    "mean_df"
   ]
  },
  {
   "cell_type": "code",
   "execution_count": 34,
   "id": "43ad349b",
   "metadata": {},
   "outputs": [
    {
     "data": {
      "text/plain": [
       "Well ID       0\n",
       "S.No          0\n",
       "STATE         0\n",
       "DISTRICT      0\n",
       "BLOCK        71\n",
       "LOCATION      0\n",
       "LATITUDE      1\n",
       "LONGITUDE     1\n",
       "Year          0\n",
       "pH            0\n",
       "EC            0\n",
       "CO3           0\n",
       "HCO3          0\n",
       "Cl            0\n",
       "SO4           1\n",
       "NO3           0\n",
       "PO4           0\n",
       "TH            0\n",
       "Ca            0\n",
       "Mg            0\n",
       "Na            0\n",
       "K             0\n",
       "F             0\n",
       "SiO2          0\n",
       "TDS           0\n",
       "U(ppb)        0\n",
       "dtype: int64"
      ]
     },
     "execution_count": 34,
     "metadata": {},
     "output_type": "execute_result"
    }
   ],
   "source": [
    "df.isnull().sum()"
   ]
  },
  {
   "cell_type": "code",
   "execution_count": null,
   "id": "fba6ffc9",
   "metadata": {},
   "outputs": [],
   "source": [
    "naya column  banna hai\n",
    "usko assign krni hai values \n",
    "eda\n",
    "feature selection \n",
    "feature engineering(hypothesis testing)\n",
    "split the data\n",
    "model\n",
    "test\n"
   ]
  },
  {
   "cell_type": "code",
   "execution_count": null,
   "id": "fb60aa9c",
   "metadata": {},
   "outputs": [],
   "source": []
  }
 ],
 "metadata": {
  "kernelspec": {
   "display_name": "Python 3 (ipykernel)",
   "language": "python",
   "name": "python3"
  },
  "language_info": {
   "codemirror_mode": {
    "name": "ipython",
    "version": 3
   },
   "file_extension": ".py",
   "mimetype": "text/x-python",
   "name": "python",
   "nbconvert_exporter": "python",
   "pygments_lexer": "ipython3",
   "version": "3.8.4rc1"
  }
 },
 "nbformat": 4,
 "nbformat_minor": 5
}
